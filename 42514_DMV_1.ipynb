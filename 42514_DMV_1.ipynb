{
 "cells": [
  {
   "cell_type": "markdown",
   "id": "de3a8d68-8dd1-46e2-949b-06cff91308de",
   "metadata": {},
   "source": [
    "# Data Loading, Storage and File Formats \r\n",
    "Problem Statement: Analyzing Sales Data from Multiple File Formats \r\n",
    "Dataset: Sales data in multiple file formats (e.g., CSV, Excel, JSON) \r\n",
    "Description: The goal is to load and analyze sales data from different file formats, including \r\n",
    "CSV, Excel, and JSON, and perform data cleaning, transformation, and analysis on the \r\n",
    "dataset. \r\n",
    "  \r\n",
    "Tasks to Perform: \r\n",
    " Obtain sales data files in various formats, such as CSV, Excel, and JSON. \r\n",
    "1. Load the sales data from each file format into the appropriate data structures or \r\n",
    "dataframes. \r\n",
    "2. Explore the structure and content of the loaded data, identifying any inconsistencies, \r\n",
    "missing values, or data quality issues. \r\n",
    "3. Perform data cleaning operations, such as handling missing values, removing \r\n",
    "duplicates, or correcting inconsistencies. \r\n",
    "4. Convert the data into a unified format, such as a common dataframe or data structure, \r\n",
    "to enable seamless analysis.\r\n",
    "5. Perform data transformation tasks, such as merging multiple datasets, splitting \r\n",
    "columns, or deriving new variables. \r\n",
    "6. Analyze the sales data by performing descriptive statistics, aggregating data by \r\n",
    "specific variables, or calculating metrics such as total sales, average order value, or \r\n",
    "product category distribution. \r\n",
    "7. Create visualizations, such as bar plots, pie charts, or box plots, to represent the sales \r\n",
    "data and gain insights into sales trends, customer behavior, or product performance. eamless analysis."
   ]
  },
  {
   "cell_type": "markdown",
   "id": "abeb533f-1215-45cb-837b-9e0755292d27",
   "metadata": {},
   "source": [
    "- Import necessary libraries"
   ]
  },
  {
   "cell_type": "code",
   "execution_count": 1,
   "id": "319ff143-2252-408c-8623-4cf6ed85cb96",
   "metadata": {},
   "outputs": [],
   "source": [
    "import pandas as pd\n",
    "import matplotlib.pyplot as plt\n",
    "import seaborn as sns"
   ]
  },
  {
   "cell_type": "markdown",
   "id": "97354af6-7a44-4849-a606-c10a50fcf603",
   "metadata": {},
   "source": [
    "- Task 1: Load the sales data from each file format"
   ]
  },
  {
   "cell_type": "code",
   "execution_count": 42,
   "id": "03be16b2-2979-4467-a6f1-46bd265a4d87",
   "metadata": {},
   "outputs": [
    {
     "ename": "FileNotFoundError",
     "evalue": "[Errno 2] No such file or directory: 'annex4.xls'",
     "output_type": "error",
     "traceback": [
      "\u001b[1;31m---------------------------------------------------------------------------\u001b[0m",
      "\u001b[1;31mFileNotFoundError\u001b[0m                         Traceback (most recent call last)",
      "Cell \u001b[1;32mIn[42], line 5\u001b[0m\n\u001b[0;32m      2\u001b[0m df_csv \u001b[38;5;241m=\u001b[39m pd\u001b[38;5;241m.\u001b[39mread_csv(\u001b[38;5;124m'\u001b[39m\u001b[38;5;124msales_data.csv\u001b[39m\u001b[38;5;124m'\u001b[39m, encoding\u001b[38;5;241m=\u001b[39m\u001b[38;5;124m'\u001b[39m\u001b[38;5;124mISO-8859-1\u001b[39m\u001b[38;5;124m'\u001b[39m)\n\u001b[0;32m      4\u001b[0m \u001b[38;5;66;03m# Load Excel file\u001b[39;00m\n\u001b[1;32m----> 5\u001b[0m df_excel \u001b[38;5;241m=\u001b[39m \u001b[43mpd\u001b[49m\u001b[38;5;241;43m.\u001b[39;49m\u001b[43mread_excel\u001b[49m\u001b[43m(\u001b[49m\u001b[38;5;124;43m'\u001b[39;49m\u001b[38;5;124;43mannex4.xls\u001b[39;49m\u001b[38;5;124;43m'\u001b[39;49m\u001b[43m)\u001b[49m\n\u001b[0;32m      7\u001b[0m \u001b[38;5;66;03m# Load JSON file\u001b[39;00m\n\u001b[0;32m      8\u001b[0m \u001b[38;5;66;03m# df_json = pd.read_json('sales_data.json')\u001b[39;00m\n",
      "File \u001b[1;32m~\\anaconda3\\Lib\\site-packages\\pandas\\io\\excel\\_base.py:495\u001b[0m, in \u001b[0;36mread_excel\u001b[1;34m(io, sheet_name, header, names, index_col, usecols, dtype, engine, converters, true_values, false_values, skiprows, nrows, na_values, keep_default_na, na_filter, verbose, parse_dates, date_parser, date_format, thousands, decimal, comment, skipfooter, storage_options, dtype_backend, engine_kwargs)\u001b[0m\n\u001b[0;32m    493\u001b[0m \u001b[38;5;28;01mif\u001b[39;00m \u001b[38;5;129;01mnot\u001b[39;00m \u001b[38;5;28misinstance\u001b[39m(io, ExcelFile):\n\u001b[0;32m    494\u001b[0m     should_close \u001b[38;5;241m=\u001b[39m \u001b[38;5;28;01mTrue\u001b[39;00m\n\u001b[1;32m--> 495\u001b[0m     io \u001b[38;5;241m=\u001b[39m \u001b[43mExcelFile\u001b[49m\u001b[43m(\u001b[49m\n\u001b[0;32m    496\u001b[0m \u001b[43m        \u001b[49m\u001b[43mio\u001b[49m\u001b[43m,\u001b[49m\n\u001b[0;32m    497\u001b[0m \u001b[43m        \u001b[49m\u001b[43mstorage_options\u001b[49m\u001b[38;5;241;43m=\u001b[39;49m\u001b[43mstorage_options\u001b[49m\u001b[43m,\u001b[49m\n\u001b[0;32m    498\u001b[0m \u001b[43m        \u001b[49m\u001b[43mengine\u001b[49m\u001b[38;5;241;43m=\u001b[39;49m\u001b[43mengine\u001b[49m\u001b[43m,\u001b[49m\n\u001b[0;32m    499\u001b[0m \u001b[43m        \u001b[49m\u001b[43mengine_kwargs\u001b[49m\u001b[38;5;241;43m=\u001b[39;49m\u001b[43mengine_kwargs\u001b[49m\u001b[43m,\u001b[49m\n\u001b[0;32m    500\u001b[0m \u001b[43m    \u001b[49m\u001b[43m)\u001b[49m\n\u001b[0;32m    501\u001b[0m \u001b[38;5;28;01melif\u001b[39;00m engine \u001b[38;5;129;01mand\u001b[39;00m engine \u001b[38;5;241m!=\u001b[39m io\u001b[38;5;241m.\u001b[39mengine:\n\u001b[0;32m    502\u001b[0m     \u001b[38;5;28;01mraise\u001b[39;00m \u001b[38;5;167;01mValueError\u001b[39;00m(\n\u001b[0;32m    503\u001b[0m         \u001b[38;5;124m\"\u001b[39m\u001b[38;5;124mEngine should not be specified when passing \u001b[39m\u001b[38;5;124m\"\u001b[39m\n\u001b[0;32m    504\u001b[0m         \u001b[38;5;124m\"\u001b[39m\u001b[38;5;124man ExcelFile - ExcelFile already has the engine set\u001b[39m\u001b[38;5;124m\"\u001b[39m\n\u001b[0;32m    505\u001b[0m     )\n",
      "File \u001b[1;32m~\\anaconda3\\Lib\\site-packages\\pandas\\io\\excel\\_base.py:1550\u001b[0m, in \u001b[0;36mExcelFile.__init__\u001b[1;34m(self, path_or_buffer, engine, storage_options, engine_kwargs)\u001b[0m\n\u001b[0;32m   1548\u001b[0m     ext \u001b[38;5;241m=\u001b[39m \u001b[38;5;124m\"\u001b[39m\u001b[38;5;124mxls\u001b[39m\u001b[38;5;124m\"\u001b[39m\n\u001b[0;32m   1549\u001b[0m \u001b[38;5;28;01melse\u001b[39;00m:\n\u001b[1;32m-> 1550\u001b[0m     ext \u001b[38;5;241m=\u001b[39m \u001b[43minspect_excel_format\u001b[49m\u001b[43m(\u001b[49m\n\u001b[0;32m   1551\u001b[0m \u001b[43m        \u001b[49m\u001b[43mcontent_or_path\u001b[49m\u001b[38;5;241;43m=\u001b[39;49m\u001b[43mpath_or_buffer\u001b[49m\u001b[43m,\u001b[49m\u001b[43m \u001b[49m\u001b[43mstorage_options\u001b[49m\u001b[38;5;241;43m=\u001b[39;49m\u001b[43mstorage_options\u001b[49m\n\u001b[0;32m   1552\u001b[0m \u001b[43m    \u001b[49m\u001b[43m)\u001b[49m\n\u001b[0;32m   1553\u001b[0m     \u001b[38;5;28;01mif\u001b[39;00m ext \u001b[38;5;129;01mis\u001b[39;00m \u001b[38;5;28;01mNone\u001b[39;00m:\n\u001b[0;32m   1554\u001b[0m         \u001b[38;5;28;01mraise\u001b[39;00m \u001b[38;5;167;01mValueError\u001b[39;00m(\n\u001b[0;32m   1555\u001b[0m             \u001b[38;5;124m\"\u001b[39m\u001b[38;5;124mExcel file format cannot be determined, you must specify \u001b[39m\u001b[38;5;124m\"\u001b[39m\n\u001b[0;32m   1556\u001b[0m             \u001b[38;5;124m\"\u001b[39m\u001b[38;5;124man engine manually.\u001b[39m\u001b[38;5;124m\"\u001b[39m\n\u001b[0;32m   1557\u001b[0m         )\n",
      "File \u001b[1;32m~\\anaconda3\\Lib\\site-packages\\pandas\\io\\excel\\_base.py:1402\u001b[0m, in \u001b[0;36minspect_excel_format\u001b[1;34m(content_or_path, storage_options)\u001b[0m\n\u001b[0;32m   1399\u001b[0m \u001b[38;5;28;01mif\u001b[39;00m \u001b[38;5;28misinstance\u001b[39m(content_or_path, \u001b[38;5;28mbytes\u001b[39m):\n\u001b[0;32m   1400\u001b[0m     content_or_path \u001b[38;5;241m=\u001b[39m BytesIO(content_or_path)\n\u001b[1;32m-> 1402\u001b[0m \u001b[38;5;28;01mwith\u001b[39;00m \u001b[43mget_handle\u001b[49m\u001b[43m(\u001b[49m\n\u001b[0;32m   1403\u001b[0m \u001b[43m    \u001b[49m\u001b[43mcontent_or_path\u001b[49m\u001b[43m,\u001b[49m\u001b[43m \u001b[49m\u001b[38;5;124;43m\"\u001b[39;49m\u001b[38;5;124;43mrb\u001b[39;49m\u001b[38;5;124;43m\"\u001b[39;49m\u001b[43m,\u001b[49m\u001b[43m \u001b[49m\u001b[43mstorage_options\u001b[49m\u001b[38;5;241;43m=\u001b[39;49m\u001b[43mstorage_options\u001b[49m\u001b[43m,\u001b[49m\u001b[43m \u001b[49m\u001b[43mis_text\u001b[49m\u001b[38;5;241;43m=\u001b[39;49m\u001b[38;5;28;43;01mFalse\u001b[39;49;00m\n\u001b[0;32m   1404\u001b[0m \u001b[43m\u001b[49m\u001b[43m)\u001b[49m \u001b[38;5;28;01mas\u001b[39;00m handle:\n\u001b[0;32m   1405\u001b[0m     stream \u001b[38;5;241m=\u001b[39m handle\u001b[38;5;241m.\u001b[39mhandle\n\u001b[0;32m   1406\u001b[0m     stream\u001b[38;5;241m.\u001b[39mseek(\u001b[38;5;241m0\u001b[39m)\n",
      "File \u001b[1;32m~\\anaconda3\\Lib\\site-packages\\pandas\\io\\common.py:882\u001b[0m, in \u001b[0;36mget_handle\u001b[1;34m(path_or_buf, mode, encoding, compression, memory_map, is_text, errors, storage_options)\u001b[0m\n\u001b[0;32m    873\u001b[0m         handle \u001b[38;5;241m=\u001b[39m \u001b[38;5;28mopen\u001b[39m(\n\u001b[0;32m    874\u001b[0m             handle,\n\u001b[0;32m    875\u001b[0m             ioargs\u001b[38;5;241m.\u001b[39mmode,\n\u001b[1;32m   (...)\u001b[0m\n\u001b[0;32m    878\u001b[0m             newline\u001b[38;5;241m=\u001b[39m\u001b[38;5;124m\"\u001b[39m\u001b[38;5;124m\"\u001b[39m,\n\u001b[0;32m    879\u001b[0m         )\n\u001b[0;32m    880\u001b[0m     \u001b[38;5;28;01melse\u001b[39;00m:\n\u001b[0;32m    881\u001b[0m         \u001b[38;5;66;03m# Binary mode\u001b[39;00m\n\u001b[1;32m--> 882\u001b[0m         handle \u001b[38;5;241m=\u001b[39m \u001b[38;5;28;43mopen\u001b[39;49m\u001b[43m(\u001b[49m\u001b[43mhandle\u001b[49m\u001b[43m,\u001b[49m\u001b[43m \u001b[49m\u001b[43mioargs\u001b[49m\u001b[38;5;241;43m.\u001b[39;49m\u001b[43mmode\u001b[49m\u001b[43m)\u001b[49m\n\u001b[0;32m    883\u001b[0m     handles\u001b[38;5;241m.\u001b[39mappend(handle)\n\u001b[0;32m    885\u001b[0m \u001b[38;5;66;03m# Convert BytesIO or file objects passed with an encoding\u001b[39;00m\n",
      "\u001b[1;31mFileNotFoundError\u001b[0m: [Errno 2] No such file or directory: 'annex4.xls'"
     ]
    }
   ],
   "source": [
    "# Load CSV file\n",
    "df_csv = pd.read_csv('sales_data.csv', encoding='ISO-8859-1')\n",
    "\n",
    "# Load Excel file\n",
    "df_excel = pd.read_excel('annex4.xls')\n",
    "\n",
    "# Load JSON file\n",
    "# df_json = pd.read_json('sales_data.json')"
   ]
  },
  {
   "cell_type": "markdown",
   "id": "7a553102-8c59-4e6d-b270-c663be172da0",
   "metadata": {},
   "source": [
    "- Task 2: Explore the structure and content of the loaded data"
   ]
  },
  {
   "cell_type": "code",
   "execution_count": 34,
   "id": "e8984e29-965a-480b-8e79-baeb47e8bc73",
   "metadata": {},
   "outputs": [
    {
     "name": "stdout",
     "output_type": "stream",
     "text": [
      "CSV Data:\n",
      "         Item Code              Item Name  Category Code  \\\n",
      "0  102900005115168       Niushou Shengcai     1011010101   \n",
      "1  102900005115199      Sichuan Red Cedar     1011010101   \n",
      "2  102900005115625  Local Xiaomao Cabbage     1011010101   \n",
      "3  102900005115748           White Caitai     1011010101   \n",
      "4  102900005115762               Amaranth     1011010101   \n",
      "\n",
      "             Category Name  \n",
      "0  Flower/LeafÂ Vegetables  \n",
      "1  Flower/LeafÂ Vegetables  \n",
      "2  Flower/LeafÂ Vegetables  \n",
      "3  Flower/LeafÂ Vegetables  \n",
      "4  Flower/LeafÂ Vegetables  \n",
      "<class 'pandas.core.frame.DataFrame'>\n",
      "RangeIndex: 251 entries, 0 to 250\n",
      "Data columns (total 4 columns):\n",
      " #   Column         Non-Null Count  Dtype \n",
      "---  ------         --------------  ----- \n",
      " 0   Item Code      251 non-null    int64 \n",
      " 1   Item Name      251 non-null    object\n",
      " 2   Category Code  251 non-null    int64 \n",
      " 3   Category Name  251 non-null    object\n",
      "dtypes: int64(2), object(2)\n",
      "memory usage: 8.0+ KB\n",
      "None\n"
     ]
    }
   ],
   "source": [
    "print(\"CSV Data:\")\n",
    "print(df_csv.head())\n",
    "print(df_csv.info())\n",
    "\n",
    "# print(\"\\nExcel Data:\")\n",
    "# print(df_excel.head())\n",
    "# print(df_excel.info())\n",
    "\n",
    "# print(\"\\nJSON Data:\")\n",
    "# print(df_json.head())\n",
    "# print(df_json.info())\n",
    "# print(df_json.columns)"
   ]
  },
  {
   "cell_type": "markdown",
   "id": "90fa6cf7-7fc2-4e83-8815-758dd60149ec",
   "metadata": {},
   "source": [
    "- Task 3: Data cleaning operations"
   ]
  },
  {
   "cell_type": "code",
   "execution_count": null,
   "id": "9a222964-9b36-4701-a55a-a1a079dcbc63",
   "metadata": {},
   "outputs": [],
   "source": [
    "# Forward fill for missing values in the CSV data\n",
    "df_csv.ffill(inplace=True)  # Using the recommended method\n",
    "\n",
    "# Remove duplicates in Excel data\n",
    "df_excel.drop_duplicates(inplace=True)\n",
    "\n",
    "# Drop rows with missing values in 'Quantity' (or any relevant column) in JSON data\n",
    "df_json.dropna(subset=['Quantity'], inplace=True)  # Adjust the column name if necessary\n"
   ]
  },
  {
   "cell_type": "code",
   "execution_count": null,
   "id": "d5bf1029-297b-4e83-9d65-d6f22730f95f",
   "metadata": {},
   "outputs": [],
   "source": [
    "print(\"CSV DataFrame after cleaning:\")\n",
    "print(df_csv.head())\n",
    "\n",
    "print(\"Excel DataFrame after cleaning:\")\n",
    "print(df_excel.head())\n",
    "\n",
    "print(\"JSON DataFrame after cleaning:\")\n",
    "print(df_json.head())\n"
   ]
  },
  {
   "cell_type": "markdown",
   "id": "7196b3a5-2982-4df5-93a0-f20ca53d34ef",
   "metadata": {},
   "source": [
    "- Task 4: Convert data into a unified format"
   ]
  },
  {
   "cell_type": "code",
   "execution_count": null,
   "id": "3618ecea-754a-490e-a054-cdb6f20697d0",
   "metadata": {},
   "outputs": [],
   "source": [
    "# Concatenate all dataframes into a single dataframe\n",
    "df_combined = pd.concat([df_csv, df_excel, df_json], ignore_index=True)\n",
    "print(df_combined.columns)"
   ]
  },
  {
   "cell_type": "markdown",
   "id": "7b59f49f-98fa-4a24-add0-e3dfab800241",
   "metadata": {},
   "source": [
    "- Task 5: Data transformation"
   ]
  },
  {
   "cell_type": "code",
   "execution_count": null,
   "id": "916b7fe5-63e4-4618-a984-bc34f215698a",
   "metadata": {},
   "outputs": [],
   "source": [
    "# Deriving a new variable for total sales\n",
    "df_combined['Total Sales'] = df_combined['QUANTITYORDERED'] * df_combined['PRICEEACH']\n",
    "# Check the original DataFrame\n",
    "print(df_combined.head())\n",
    "\n",
    "# Check if the Total Sales column exists and is calculated correctly\n",
    "print(df_combined[['Total Sales']].head())"
   ]
  },
  {
   "cell_type": "code",
   "execution_count": null,
   "id": "718ae148-52f4-44f7-b010-0ac2b016de0c",
   "metadata": {},
   "outputs": [],
   "source": [
    "print(sales_by_category.isnull().sum())"
   ]
  },
  {
   "cell_type": "markdown",
   "id": "f8e785b3-b6ca-4825-93d1-b00039c7f973",
   "metadata": {},
   "source": [
    "- Task 6: Analyze the sales data"
   ]
  },
  {
   "cell_type": "code",
   "execution_count": null,
   "id": "a9af613b-e630-4e8f-a2d3-d966a6850c8d",
   "metadata": {},
   "outputs": [],
   "source": [
    "# Descriptive statistics\n",
    "print(\"\\nDescriptive Statistics:\")\n",
    "print(df_combined.describe())"
   ]
  },
  {
   "cell_type": "markdown",
   "id": "5bfd380e-3f24-413d-87b2-6be6204235f4",
   "metadata": {},
   "source": [
    "- Task 6: Analyze the sales data"
   ]
  },
  {
   "cell_type": "code",
   "execution_count": null,
   "id": "93c883f6-4f0a-49ae-a17d-720f24d2bdf8",
   "metadata": {},
   "outputs": [],
   "source": [
    "# Descriptive statistics\n",
    "print(\"\\nDescriptive Statistics:\")\n",
    "print(df_combined.describe())\n",
    "\n",
    "# Make sure 'Total Sales' column exists and is correctly calculated\n",
    "df_combined['Total Sales'] = df_combined['Quantity'] * df_combined['Sales']\n",
    "\n",
    "# Then aggregate by category\n",
    "sales_by_category = df_combined.groupby('Category')['Total Sales'].sum().reset_index()\n",
    "\n",
    "\n",
    "# Display the aggregated sales by category\n",
    "print(\"\\nSales by Category:\")\n",
    "print(sales_by_category)"
   ]
  },
  {
   "cell_type": "code",
   "execution_count": null,
   "id": "14954929-dcb0-4c78-9420-9c8560cb26fc",
   "metadata": {},
   "outputs": [],
   "source": [
    "plt.figure(figsize=(10, 6))\n",
    "sns.barplot(data=sales_by_category, x='Category', y='Total Sales', palette='viridis')\n",
    "plt.title('Total Sales by Product Category')\n",
    "plt.xlabel('Product Category')\n",
    "plt.ylabel('Total Sales')\n",
    "plt.xticks(rotation=45)\n",
    "plt.tight_layout()\n",
    "plt.show()\n"
   ]
  },
  {
   "cell_type": "code",
   "execution_count": null,
   "id": "5f7dc37d-f2d2-472e-8e66-9c57ec287eab",
   "metadata": {},
   "outputs": [],
   "source": [
    "# Pie chart for sales distribution\n",
    "plt.figure(figsize=(8, 8))\n",
    "plt.pie(sales_by_category['Total Sales'], labels=sales_by_category['Category'], autopct='%1.1f%%', startangle=140)\n",
    "plt.title('Sales Distribution by Product Category')\n",
    "plt.axis('equal')  # Equal aspect ratio ensures that pie chart is circular.\n",
    "plt.show()\n"
   ]
  },
  {
   "cell_type": "code",
   "execution_count": null,
   "id": "210f3ec8-6113-4095-b283-c5850068dfd7",
   "metadata": {},
   "outputs": [],
   "source": []
  }
 ],
 "metadata": {
  "kernelspec": {
   "display_name": "Python 3 (ipykernel)",
   "language": "python",
   "name": "python3"
  },
  "language_info": {
   "codemirror_mode": {
    "name": "ipython",
    "version": 3
   },
   "file_extension": ".py",
   "mimetype": "text/x-python",
   "name": "python",
   "nbconvert_exporter": "python",
   "pygments_lexer": "ipython3",
   "version": "3.12.4"
  }
 },
 "nbformat": 4,
 "nbformat_minor": 5
}
